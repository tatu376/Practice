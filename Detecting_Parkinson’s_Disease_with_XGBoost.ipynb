{
  "nbformat": 4,
  "nbformat_minor": 0,
  "metadata": {
    "colab": {
      "name": "Detecting Parkinson’s Disease with XGBoost.ipynb",
      "provenance": [],
      "collapsed_sections": []
    },
    "kernelspec": {
      "name": "python3",
      "display_name": "Python 3"
    },
    "accelerator": "TPU"
  },
  "cells": [
    {
      "cell_type": "code",
      "metadata": {
        "id": "bjrvaSxhGEnH",
        "colab_type": "code",
        "colab": {}
      },
      "source": [
        "#Import neccessary libraries\n",
        "import tensorflow as tf\n",
        "from tensorflow import keras\n",
        "\n",
        "import os\n",
        "import tempfile\n",
        "\n",
        "import matplotlib as mpl\n",
        "import matplotlib.pyplot as plt\n",
        "import numpy as np\n",
        "import pandas as pd\n",
        "import seaborn as sns\n",
        "\n",
        "import sklearn\n",
        "from sklearn.metrics import confusion_matrix\n",
        "from sklearn.model_selection import train_test_split\n",
        "from sklearn.preprocessing import StandardScaler\n",
        "from xgboost import XGBClassifier\n"
      ],
      "execution_count": 0,
      "outputs": []
    },
    {
      "cell_type": "code",
      "metadata": {
        "id": "Rnm5tCRhI1mE",
        "colab_type": "code",
        "outputId": "ddfacb77-8b76-455b-8fa9-87ed830d1bdc",
        "colab": {
          "base_uri": "https://localhost:8080/",
          "height": 54
        }
      },
      "source": [
        "#Mount drive\n",
        "from google.colab import drive\n",
        "drive.mount('/content/drive')"
      ],
      "execution_count": 196,
      "outputs": [
        {
          "output_type": "stream",
          "text": [
            "Drive already mounted at /content/drive; to attempt to forcibly remount, call drive.mount(\"/content/drive\", force_remount=True).\n"
          ],
          "name": "stdout"
        }
      ]
    },
    {
      "cell_type": "markdown",
      "metadata": {
        "id": "fUNxBNuyNGIZ",
        "colab_type": "text"
      },
      "source": [
        "#First Glance at the Data"
      ]
    },
    {
      "cell_type": "code",
      "metadata": {
        "id": "WInKYQy9I4pg",
        "colab_type": "code",
        "outputId": "6c1f0c00-0d74-4159-ee20-093ce864d72a",
        "colab": {
          "base_uri": "https://localhost:8080/",
          "height": 187
        }
      },
      "source": [
        "#Import Data and divide into features (X) and label (y)\n",
        "data = pd.read_csv('/content/drive/My Drive/Machine Learning/github/practice/parkinson/parkinsons.data')\n",
        "data.drop('name',axis=1, inplace=True)\n",
        "X = data.drop('status', axis=1)\n",
        "y = data.status\n",
        "print(X.head())\n",
        "print('X shape:', X.shape)\n",
        "print('y shape:', y.shape)\n"
      ],
      "execution_count": 197,
      "outputs": [
        {
          "output_type": "stream",
          "text": [
            "   MDVP:Fo(Hz)  MDVP:Fhi(Hz)  MDVP:Flo(Hz)  ...   spread2        D2       PPE\n",
            "0      119.992       157.302        74.997  ...  0.266482  2.301442  0.284654\n",
            "1      122.400       148.650       113.819  ...  0.335590  2.486855  0.368674\n",
            "2      116.682       131.111       111.555  ...  0.311173  2.342259  0.332634\n",
            "3      116.676       137.871       111.366  ...  0.334147  2.405554  0.368975\n",
            "4      116.014       141.781       110.655  ...  0.234513  2.332180  0.410335\n",
            "\n",
            "[5 rows x 22 columns]\n",
            "X shape: (195, 22)\n",
            "y shape: (195,)\n"
          ],
          "name": "stdout"
        }
      ]
    },
    {
      "cell_type": "code",
      "metadata": {
        "id": "QnxZ6oEkUHO2",
        "colab_type": "code",
        "outputId": "12f28132-11bb-4975-932f-e326ba02e9a6",
        "colab": {
          "base_uri": "https://localhost:8080/",
          "height": 85
        }
      },
      "source": [
        "#Check if the data is imbalanced or not\n",
        "neg, pos = np.bincount(y)\n",
        "total = neg + pos\n",
        "print('Examples:\\n    Total: {}\\n    Positive: {} ({:.2f}% of total)\\n'.format(\n",
        "    total, pos, 100 * pos / total))\n",
        "\n",
        "# --> Not imbalanced"
      ],
      "execution_count": 198,
      "outputs": [
        {
          "output_type": "stream",
          "text": [
            "Examples:\n",
            "    Total: 195\n",
            "    Positive: 147 (75.38% of total)\n",
            "\n"
          ],
          "name": "stdout"
        }
      ]
    },
    {
      "cell_type": "code",
      "metadata": {
        "id": "kKjTEvHnJGZ0",
        "colab_type": "code",
        "outputId": "a079bd4d-e7ee-44c3-82d0-8f11b6f85006",
        "colab": {
          "base_uri": "https://localhost:8080/",
          "height": 656
        }
      },
      "source": [
        "#Draw correlation matrix\n",
        "sns.set(style=\"white\")\n",
        "\n",
        "# Compute the correlation matrix\n",
        "corr = X.corr()\n",
        "\n",
        "# Generate a mask for the upper triangle\n",
        "mask = np.triu(np.ones_like(corr, dtype=np.bool))\n",
        "\n",
        "# Set up the matplotlib figure\n",
        "f, ax = plt.subplots(figsize=(11, 9))\n",
        "\n",
        "# Generate a custom diverging colormap\n",
        "cmap = sns.diverging_palette(220, 10, as_cmap=True)\n",
        "\n",
        "# Draw the heatmap with the mask and correct aspect ratio\n",
        "sns.heatmap(corr, mask=mask, cmap=cmap, vmax=.3, center=0,\n",
        "            square=True, linewidths=.5, cbar_kws={\"shrink\": .5})"
      ],
      "execution_count": 199,
      "outputs": [
        {
          "output_type": "execute_result",
          "data": {
            "text/plain": [
              "<matplotlib.axes._subplots.AxesSubplot at 0x7f04d57fa208>"
            ]
          },
          "metadata": {
            "tags": []
          },
          "execution_count": 199
        },
        {
          "output_type": "display_data",
          "data": {
            "image/png": "[encoded data removed]",
            "text/plain": [
              "<Figure size 792x648 with 2 Axes>"
            ]
          },
          "metadata": {
            "tags": []
          }
        }
      ]
    },
    {
      "cell_type": "markdown",
      "metadata": {
        "id": "WzzGToA_NLv8",
        "colab_type": "text"
      },
      "source": [
        "# Preprocessing"
      ]
    },
    {
      "cell_type": "code",
      "metadata": {
        "id": "pSva7gcyJpn0",
        "colab_type": "code",
        "outputId": "a7eb6205-4bda-456f-efc7-d370c2691812",
        "colab": {
          "base_uri": "https://localhost:8080/",
          "height": 85
        }
      },
      "source": [
        "X_train, X_test, y_train, y_test = train_test_split(X,y,test_size=0.4, random_state=3)\n",
        "print('training features:', X_train.shape)\n",
        "print('training labels:', y_train.shape)\n",
        "print('test size:', X_test.shape)\n",
        "print('test labels:', y_test.shape)"
      ],
      "execution_count": 318,
      "outputs": [
        {
          "output_type": "stream",
          "text": [
            "training features: (117, 22)\n",
            "training labels: (117,)\n",
            "test size: (78, 22)\n",
            "test labels: (78,)\n"
          ],
          "name": "stdout"
        }
      ]
    },
    {
      "cell_type": "code",
      "metadata": {
        "id": "dOS3rZ3kTPKF",
        "colab_type": "code",
        "colab": {}
      },
      "source": [
        "scaler = StandardScaler()\n",
        "X_train = scaler.fit_transform(X_train)\n",
        "X_test = scaler.transform(X_test)"
      ],
      "execution_count": 0,
      "outputs": []
    },
    {
      "cell_type": "markdown",
      "metadata": {
        "id": "SP5PSvzbNPcy",
        "colab_type": "text"
      },
      "source": [
        "#Build Baseline Model"
      ]
    },
    {
      "cell_type": "code",
      "metadata": {
        "id": "qfBj8CtWUbe5",
        "colab_type": "code",
        "outputId": "04867744-1b5d-47f5-8aba-bfb70191caa8",
        "colab": {
          "base_uri": "https://localhost:8080/",
          "height": 136
        }
      },
      "source": [
        "model = XGBClassifier()\n",
        "model.fit(X_train,y_train)"
      ],
      "execution_count": 320,
      "outputs": [
        {
          "output_type": "execute_result",
          "data": {
            "text/plain": [
              "XGBClassifier(base_score=0.5, booster='gbtree', colsample_bylevel=1,\n",
              "              colsample_bynode=1, colsample_bytree=1, gamma=0,\n",
              "              learning_rate=0.1, max_delta_step=0, max_depth=3,\n",
              "              min_child_weight=1, missing=None, n_estimators=100, n_jobs=1,\n",
              "              nthread=None, objective='binary:logistic', random_state=0,\n",
              "              reg_alpha=0, reg_lambda=1, scale_pos_weight=1, seed=None,\n",
              "              silent=None, subsample=1, verbosity=1)"
            ]
          },
          "metadata": {
            "tags": []
          },
          "execution_count": 320
        }
      ]
    },
    {
      "cell_type": "code",
      "metadata": {
        "id": "tsBlt4OcVeJ2",
        "colab_type": "code",
        "colab": {}
      },
      "source": [
        "y_pred=model.predict(X_test)"
      ],
      "execution_count": 0,
      "outputs": []
    },
    {
      "cell_type": "code",
      "metadata": {
        "id": "pGQkjBXcVoLX",
        "colab_type": "code",
        "outputId": "9aa3d13c-a8d8-4dee-9ae7-85467df4c0e8",
        "colab": {
          "base_uri": "https://localhost:8080/",
          "height": 34
        }
      },
      "source": [
        "from sklearn.metrics import roc_auc_score\n",
        "roc_auc_score(y_test, y_pred)"
      ],
      "execution_count": 322,
      "outputs": [
        {
          "output_type": "execute_result",
          "data": {
            "text/plain": [
              "0.8543876567020251"
            ]
          },
          "metadata": {
            "tags": []
          },
          "execution_count": 322
        }
      ]
    },
    {
      "cell_type": "markdown",
      "metadata": {
        "id": "fE0uS9fjNWFw",
        "colab_type": "text"
      },
      "source": [
        "#Tuning"
      ]
    },
    {
      "cell_type": "code",
      "metadata": {
        "id": "4wv5Thb5VsDI",
        "colab_type": "code",
        "colab": {}
      },
      "source": [
        "from sklearn.model_selection import cross_val_score,StratifiedKFold, RepeatedStratifiedKFold\n",
        "from sklearn.model_selection import RandomizedSearchCV,GridSearchCV\n",
        "\n",
        "cv = RepeatedStratifiedKFold(n_splits=5, random_state=317)\n",
        "\n",
        "parameters =    {\n",
        "            'base_score': [0.7],\n",
        "            'n_estimators': [100],\n",
        "            'scale_pos_weight':[1],\n",
        "            'max_depth':[3],\n",
        "            'min_child_weight':[1],\n",
        "            'gamma':[0],\n",
        "            'subsample':[1],\n",
        "            'colsample_bytree':[1],\n",
        "            'reg_alpha':[0],\n",
        "            'learning_rate':[0.2]            \n",
        "            }\n",
        "xgb_model = XGBClassifier(build_fn = model, verbose = 2)\n",
        "\n",
        "clf = GridSearchCV(xgb_model, param_grid = parameters, scoring = 'roc_auc',   \n",
        "                         n_jobs = 1, cv = cv)"
      ],
      "execution_count": 0,
      "outputs": []
    },
    {
      "cell_type": "code",
      "metadata": {
        "id": "SIBFFwjHWW2L",
        "colab_type": "code",
        "colab": {}
      },
      "source": [
        "grid_result = clf.fit(X_train, y_train)\n"
      ],
      "execution_count": 0,
      "outputs": []
    },
    {
      "cell_type": "code",
      "metadata": {
        "id": "p8-aLRRxXW_c",
        "colab_type": "code",
        "colab": {}
      },
      "source": [
        "final_model = grid_result.best_estimator_"
      ],
      "execution_count": 0,
      "outputs": []
    },
    {
      "cell_type": "code",
      "metadata": {
        "id": "d7BVqd_XXflH",
        "colab_type": "code",
        "outputId": "98104714-d2f2-481a-eb20-922df149177d",
        "colab": {
          "base_uri": "https://localhost:8080/",
          "height": 34
        }
      },
      "source": [
        "grid_result.best_score_"
      ],
      "execution_count": 326,
      "outputs": [
        {
          "output_type": "execute_result",
          "data": {
            "text/plain": [
              "0.9363896669779024"
            ]
          },
          "metadata": {
            "tags": []
          },
          "execution_count": 326
        }
      ]
    },
    {
      "cell_type": "code",
      "metadata": {
        "id": "cUzUcwuMXrbc",
        "colab_type": "code",
        "outputId": "d1fafd67-67df-42e1-f96e-c38d679a99da",
        "colab": {
          "base_uri": "https://localhost:8080/",
          "height": 34
        }
      },
      "source": [
        "y_pred = final_model.predict(X_test)\n",
        "auc = roc_auc_score(y_test,y_pred)\n",
        "auc\n"
      ],
      "execution_count": 327,
      "outputs": [
        {
          "output_type": "execute_result",
          "data": {
            "text/plain": [
              "0.8543876567020251"
            ]
          },
          "metadata": {
            "tags": []
          },
          "execution_count": 327
        }
      ]
    },
    {
      "cell_type": "code",
      "metadata": {
        "id": "eC2PrJjfXltn",
        "colab_type": "code",
        "outputId": "9aff5b48-e3e5-4f65-cbf3-d794f7de21ed",
        "colab": {
          "base_uri": "https://localhost:8080/",
          "height": 187
        }
      },
      "source": [
        "grid_result.best_params_"
      ],
      "execution_count": 328,
      "outputs": [
        {
          "output_type": "execute_result",
          "data": {
            "text/plain": [
              "{'base_score': 0.7,\n",
              " 'colsample_bytree': 1,\n",
              " 'gamma': 0,\n",
              " 'learning_rate': 0.2,\n",
              " 'max_depth': 3,\n",
              " 'min_child_weight': 1,\n",
              " 'n_estimators': 100,\n",
              " 'reg_alpha': 0,\n",
              " 'scale_pos_weight': 1,\n",
              " 'subsample': 1}"
            ]
          },
          "metadata": {
            "tags": []
          },
          "execution_count": 328
        }
      ]
    },
    {
      "cell_type": "code",
      "metadata": {
        "id": "R-LKKKRAYUvy",
        "colab_type": "code",
        "colab": {}
      },
      "source": [
        ""
      ],
      "execution_count": 0,
      "outputs": []
    }
  ]
}