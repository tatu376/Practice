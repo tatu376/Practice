{
  "nbformat": 4,
  "nbformat_minor": 0,
  "metadata": {
    "colab": {
      "name": "MNIST.ipynb",
      "provenance": [],
      "collapsed_sections": [],
      "toc_visible": true
    },
    "kernelspec": {
      "name": "python3",
      "display_name": "Python 3"
    },
    "accelerator": "GPU"
  },
  "cells": [
    {
      "cell_type": "code",
      "metadata": {
        "id": "pyYsDP0lQMdU",
        "colab_type": "code",
        "outputId": "58b23972-2758-4dd3-e0d9-d7277232f8e8",
        "colab": {
          "base_uri": "https://localhost:8080/",
          "height": 97
        }
      },
      "source": [
        "import tensorflow as tf\n",
        "import numpy as np\n",
        "import keras\n",
        "(x_train, y_train), (x_test, y_test) = tf.keras.datasets.mnist.load_data()"
      ],
      "execution_count": 1,
      "outputs": [
        {
          "output_type": "display_data",
          "data": {
            "text/html": [
              "<p style=\"color: red;\">\n",
              "The default version of TensorFlow in Colab will soon switch to TensorFlow 2.x.<br>\n",
              "We recommend you <a href=\"https://www.tensorflow.org/guide/migrate\" target=\"_blank\">upgrade</a> now \n",
              "or ensure your notebook will continue to use TensorFlow 1.x via the <code>%tensorflow_version 1.x</code> magic:\n",
              "<a href=\"https://colab.research.google.com/notebooks/tensorflow_version.ipynb\" target=\"_blank\">more info</a>.</p>\n"
            ],
            "text/plain": [
              "<IPython.core.display.HTML object>"
            ]
          },
          "metadata": {
            "tags": []
          }
        },
        {
          "output_type": "stream",
          "text": [
            "Using TensorFlow backend.\n"
          ],
          "name": "stderr"
        }
      ]
    },
    {
      "cell_type": "code",
      "metadata": {
        "id": "X8BX_9jwR-xa",
        "colab_type": "code",
        "outputId": "a9a537ae-83b0-4ffa-d557-b3a9a6cd0b36",
        "colab": {
          "base_uri": "https://localhost:8080/",
          "height": 34
        }
      },
      "source": [
        "x_test.shape"
      ],
      "execution_count": 2,
      "outputs": [
        {
          "output_type": "execute_result",
          "data": {
            "text/plain": [
              "(10000, 28, 28)"
            ]
          },
          "metadata": {
            "tags": []
          },
          "execution_count": 2
        }
      ]
    },
    {
      "cell_type": "code",
      "metadata": {
        "id": "CVkHyscGSE9R",
        "colab_type": "code",
        "outputId": "76adae46-9812-4300-e2c7-5d1f9e9fe5de",
        "colab": {
          "base_uri": "https://localhost:8080/",
          "height": 68
        }
      },
      "source": [
        "# Reshaping the array to 4-dims so that it can work with the Keras API\n",
        "x_train = x_train.reshape(x_train.shape[0], 28, 28, 1)\n",
        "x_test = x_test.reshape(x_test.shape[0], 28, 28, 1)\n",
        "# Making sure that the values are float so that we can get decimal points after division\n",
        "x_train = x_train.astype('float32')\n",
        "x_test = x_test.astype('float32')\n",
        "# Normalizing the RGB codes by dividing it to the max RGB value.\n",
        "x_train /= 255\n",
        "x_test /= 255\n",
        "print('x_train shape:', x_train.shape)\n",
        "print('Number of images in x_train', x_train.shape[0])\n",
        "print('Number of images in x_test', x_test.shape[0])"
      ],
      "execution_count": 3,
      "outputs": [
        {
          "output_type": "stream",
          "text": [
            "x_train shape: (60000, 28, 28, 1)\n",
            "Number of images in x_train 60000\n",
            "Number of images in x_test 10000\n"
          ],
          "name": "stdout"
        }
      ]
    },
    {
      "cell_type": "code",
      "metadata": {
        "id": "Vn35md94TIur",
        "colab_type": "code",
        "outputId": "f7a03565-55c2-42a9-8e69-43010d216904",
        "colab": {
          "base_uri": "https://localhost:8080/",
          "height": 71
        }
      },
      "source": [
        "# Importing the required Keras modules containing model and layers\n",
        "from keras.models import Sequential\n",
        "from keras.layers import Dense, Conv2D, Dropout, Flatten, MaxPooling2D, LeakyReLU, BatchNormalization\n",
        "from keras.callbacks import ModelCheckpoint\n",
        "from keras.models import load_model\n",
        "\n",
        "# Creating a Sequential Model and adding the layers\n",
        "model = Sequential()\n",
        "model.add(Conv2D(16, kernel_size=(3,3)))\n",
        "model.add(Conv2D(16, kernel_size=(3,3), padding='same'))\n",
        "model.add(MaxPooling2D(pool_size=(2, 2)))\n",
        "\n",
        "model.add(Conv2D(32, kernel_size=(3,3)))\n",
        "model.add(Conv2D(32, kernel_size=(5,5)))\n",
        "model.add(Conv2D(64, kernel_size=(1,1)))\n",
        "model.add(Conv2D(128, kernel_size=(1,1)))\n",
        "model.add(MaxPooling2D(pool_size=(2, 2)))\n",
        "\n",
        "model.add(Flatten()) # Flattening the 2D arrays for fully connected layers\n",
        "model.add(Dense(128, activation='relu', kernel_initializer=\"he_normal\"))\n",
        "model.add(BatchNormalization())\n",
        "# model.add(Dropout(0.05))\n",
        "model.add(Dense(64, activation='relu', kernel_initializer=\"he_normal\"))\n",
        "model.add(BatchNormalization())\n",
        "# model.add(Dropout(0.05))\n",
        "model.add(Dense(32, activation='relu', kernel_initializer=\"he_normal\"))\n",
        "model.add(BatchNormalization())\n",
        "model.add(Dropout(0.3))\n",
        "\n",
        "\n",
        "model.add(Dense(10,activation=tf.nn.softmax))"
      ],
      "execution_count": 4,
      "outputs": [
        {
          "output_type": "stream",
          "text": [
            "WARNING:tensorflow:From /usr/local/lib/python3.6/dist-packages/keras/backend/tensorflow_backend.py:66: The name tf.get_default_graph is deprecated. Please use tf.compat.v1.get_default_graph instead.\n",
            "\n"
          ],
          "name": "stdout"
        }
      ]
    },
    {
      "cell_type": "code",
      "metadata": {
        "id": "BtXi6jTuTQyp",
        "colab_type": "code",
        "outputId": "2ad0e1ce-43e6-41dc-f9bd-e1c8203eaaff",
        "colab": {
          "base_uri": "https://localhost:8080/",
          "height": 1000
        }
      },
      "source": [
        "model.compile(optimizer='adam', \n",
        "              loss='sparse_categorical_crossentropy', \n",
        "              metrics=['accuracy'])\n",
        "history = model.fit(x=x_train,y=y_train, validation_split=0.1, epochs=20, batch_size=64, callbacks = [ModelCheckpoint('/content/model.h5',save_best_only=True)])"
      ],
      "execution_count": 5,
      "outputs": [
        {
          "output_type": "stream",
          "text": [
            "WARNING:tensorflow:From /usr/local/lib/python3.6/dist-packages/keras/optimizers.py:793: The name tf.train.Optimizer is deprecated. Please use tf.compat.v1.train.Optimizer instead.\n",
            "\n",
            "WARNING:tensorflow:From /usr/local/lib/python3.6/dist-packages/keras/backend/tensorflow_backend.py:541: The name tf.placeholder is deprecated. Please use tf.compat.v1.placeholder instead.\n",
            "\n",
            "WARNING:tensorflow:From /usr/local/lib/python3.6/dist-packages/keras/backend/tensorflow_backend.py:4432: The name tf.random_uniform is deprecated. Please use tf.random.uniform instead.\n",
            "\n",
            "WARNING:tensorflow:From /usr/local/lib/python3.6/dist-packages/keras/backend/tensorflow_backend.py:4267: The name tf.nn.max_pool is deprecated. Please use tf.nn.max_pool2d instead.\n",
            "\n",
            "WARNING:tensorflow:From /usr/local/lib/python3.6/dist-packages/keras/backend/tensorflow_backend.py:4479: The name tf.truncated_normal is deprecated. Please use tf.random.truncated_normal instead.\n",
            "\n",
            "WARNING:tensorflow:From /usr/local/lib/python3.6/dist-packages/keras/backend/tensorflow_backend.py:148: The name tf.placeholder_with_default is deprecated. Please use tf.compat.v1.placeholder_with_default instead.\n",
            "\n",
            "WARNING:tensorflow:From /usr/local/lib/python3.6/dist-packages/keras/backend/tensorflow_backend.py:3733: calling dropout (from tensorflow.python.ops.nn_ops) with keep_prob is deprecated and will be removed in a future version.\n",
            "Instructions for updating:\n",
            "Please use `rate` instead of `keep_prob`. Rate should be set to `rate = 1 - keep_prob`.\n",
            "WARNING:tensorflow:From /usr/local/lib/python3.6/dist-packages/keras/backend/tensorflow_backend.py:3622: The name tf.log is deprecated. Please use tf.math.log instead.\n",
            "\n",
            "WARNING:tensorflow:From /usr/local/lib/python3.6/dist-packages/tensorflow_core/python/ops/math_grad.py:1424: where (from tensorflow.python.ops.array_ops) is deprecated and will be removed in a future version.\n",
            "Instructions for updating:\n",
            "Use tf.where in 2.0, which has the same broadcast rule as np.where\n",
            "WARNING:tensorflow:From /usr/local/lib/python3.6/dist-packages/keras/backend/tensorflow_backend.py:1033: The name tf.assign_add is deprecated. Please use tf.compat.v1.assign_add instead.\n",
            "\n",
            "WARNING:tensorflow:From /usr/local/lib/python3.6/dist-packages/keras/backend/tensorflow_backend.py:1020: The name tf.assign is deprecated. Please use tf.compat.v1.assign instead.\n",
            "\n",
            "WARNING:tensorflow:From /usr/local/lib/python3.6/dist-packages/keras/backend/tensorflow_backend.py:3005: The name tf.Session is deprecated. Please use tf.compat.v1.Session instead.\n",
            "\n",
            "Train on 54000 samples, validate on 6000 samples\n",
            "Epoch 1/20\n",
            "WARNING:tensorflow:From /usr/local/lib/python3.6/dist-packages/keras/backend/tensorflow_backend.py:190: The name tf.get_default_session is deprecated. Please use tf.compat.v1.get_default_session instead.\n",
            "\n",
            "WARNING:tensorflow:From /usr/local/lib/python3.6/dist-packages/keras/backend/tensorflow_backend.py:197: The name tf.ConfigProto is deprecated. Please use tf.compat.v1.ConfigProto instead.\n",
            "\n",
            "WARNING:tensorflow:From /usr/local/lib/python3.6/dist-packages/keras/backend/tensorflow_backend.py:207: The name tf.global_variables is deprecated. Please use tf.compat.v1.global_variables instead.\n",
            "\n",
            "WARNING:tensorflow:From /usr/local/lib/python3.6/dist-packages/keras/backend/tensorflow_backend.py:216: The name tf.is_variable_initialized is deprecated. Please use tf.compat.v1.is_variable_initialized instead.\n",
            "\n",
            "WARNING:tensorflow:From /usr/local/lib/python3.6/dist-packages/keras/backend/tensorflow_backend.py:223: The name tf.variables_initializer is deprecated. Please use tf.compat.v1.variables_initializer instead.\n",
            "\n",
            "54000/54000 [==============================] - 16s 292us/step - loss: 0.2688 - acc: 0.9277 - val_loss: 0.1849 - val_acc: 0.9445\n",
            "Epoch 2/20\n",
            "54000/54000 [==============================] - 12s 227us/step - loss: 0.1008 - acc: 0.9711 - val_loss: 0.0657 - val_acc: 0.9802\n",
            "Epoch 3/20\n",
            "54000/54000 [==============================] - 13s 238us/step - loss: 0.0819 - acc: 0.9762 - val_loss: 0.0603 - val_acc: 0.9817\n",
            "Epoch 4/20\n",
            "54000/54000 [==============================] - 12s 229us/step - loss: 0.0665 - acc: 0.9802 - val_loss: 0.0491 - val_acc: 0.9847\n",
            "Epoch 5/20\n",
            "54000/54000 [==============================] - 12s 229us/step - loss: 0.0593 - acc: 0.9831 - val_loss: 0.0541 - val_acc: 0.9837\n",
            "Epoch 6/20\n",
            "54000/54000 [==============================] - 12s 230us/step - loss: 0.0516 - acc: 0.9847 - val_loss: 0.0447 - val_acc: 0.9868\n",
            "Epoch 7/20\n",
            "54000/54000 [==============================] - 13s 233us/step - loss: 0.0433 - acc: 0.9873 - val_loss: 0.0498 - val_acc: 0.9865\n",
            "Epoch 8/20\n",
            "54000/54000 [==============================] - 13s 235us/step - loss: 0.0439 - acc: 0.9869 - val_loss: 0.0337 - val_acc: 0.9902\n",
            "Epoch 9/20\n",
            "54000/54000 [==============================] - 13s 237us/step - loss: 0.0403 - acc: 0.9875 - val_loss: 0.0314 - val_acc: 0.9908\n",
            "Epoch 10/20\n",
            "54000/54000 [==============================] - 12s 230us/step - loss: 0.0369 - acc: 0.9887 - val_loss: 0.0368 - val_acc: 0.9890\n",
            "Epoch 11/20\n",
            "54000/54000 [==============================] - 12s 220us/step - loss: 0.0348 - acc: 0.9897 - val_loss: 0.0382 - val_acc: 0.9905\n",
            "Epoch 12/20\n",
            "54000/54000 [==============================] - 12s 227us/step - loss: 0.0335 - acc: 0.9900 - val_loss: 0.0432 - val_acc: 0.9882\n",
            "Epoch 13/20\n",
            "54000/54000 [==============================] - 13s 234us/step - loss: 0.0294 - acc: 0.9911 - val_loss: 0.0399 - val_acc: 0.9900\n",
            "Epoch 14/20\n",
            "54000/54000 [==============================] - 12s 227us/step - loss: 0.0277 - acc: 0.9916 - val_loss: 0.0374 - val_acc: 0.9900\n",
            "Epoch 15/20\n",
            "54000/54000 [==============================] - 13s 235us/step - loss: 0.0246 - acc: 0.9927 - val_loss: 0.0303 - val_acc: 0.9902\n",
            "Epoch 16/20\n",
            "54000/54000 [==============================] - 12s 231us/step - loss: 0.0238 - acc: 0.9930 - val_loss: 0.0427 - val_acc: 0.9880\n",
            "Epoch 17/20\n",
            "54000/54000 [==============================] - 12s 231us/step - loss: 0.0242 - acc: 0.9923 - val_loss: 0.0384 - val_acc: 0.9907\n",
            "Epoch 18/20\n",
            "54000/54000 [==============================] - 13s 234us/step - loss: 0.0230 - acc: 0.9933 - val_loss: 0.0278 - val_acc: 0.9930\n",
            "Epoch 19/20\n",
            "54000/54000 [==============================] - 12s 223us/step - loss: 0.0190 - acc: 0.9944 - val_loss: 0.0297 - val_acc: 0.9918\n",
            "Epoch 20/20\n",
            "54000/54000 [==============================] - 12s 230us/step - loss: 0.0192 - acc: 0.9942 - val_loss: 0.0297 - val_acc: 0.9917\n"
          ],
          "name": "stdout"
        }
      ]
    },
    {
      "cell_type": "code",
      "metadata": {
        "id": "7l2zmda0f9qL",
        "colab_type": "code",
        "outputId": "f39c4cf0-2f88-4e48-e1f5-e3e1b7f4b81f",
        "colab": {
          "base_uri": "https://localhost:8080/",
          "height": 324
        }
      },
      "source": [
        "import pandas as pd\n",
        "import matplotlib.pyplot as plt\n",
        "\n",
        "pd.DataFrame(history.history).plot(figsize=(8, 5))\n",
        "plt.grid(True)\n",
        "plt.gca().set_ylim(0, 1) # set the vertical range to [0-1]\n",
        "plt.show()"
      ],
      "execution_count": 6,
      "outputs": [
        {
          "output_type": "display_data",
          "data": {
            "image/png": "[encoded data removed]",
            "text/plain": [
              "<Figure size 576x360 with 1 Axes>"
            ]
          },
          "metadata": {
            "tags": []
          }
        }
      ]
    },
    {
      "cell_type": "code",
      "metadata": {
        "id": "cR1gIA48TTU-",
        "colab_type": "code",
        "colab": {}
      },
      "source": [
        "y_pred=model.predict(x_test)\n",
        "y_pred=np.argmax(y_pred, axis=1)"
      ],
      "execution_count": 0,
      "outputs": []
    },
    {
      "cell_type": "markdown",
      "metadata": {
        "id": "GdmfMevQyp7e",
        "colab_type": "text"
      },
      "source": [
        ""
      ]
    },
    {
      "cell_type": "code",
      "metadata": {
        "id": "_wjDmU6lU2Jx",
        "colab_type": "code",
        "outputId": "ed6e71e4-75da-4379-fa5d-d31698b8eaea",
        "colab": {
          "base_uri": "https://localhost:8080/",
          "height": 187
        }
      },
      "source": [
        "con=tf.math.confusion_matrix(y_test,y_pred)\n",
        "sess = tf.Session()\n",
        "with sess.as_default():\n",
        "        print(sess.run(con))"
      ],
      "execution_count": 8,
      "outputs": [
        {
          "output_type": "stream",
          "text": [
            "[[ 974    0    1    0    0    0    3    1    1    0]\n",
            " [   0 1127    0    0    1    0    1    4    1    1]\n",
            " [   1    1 1023    0    1    0    0    4    2    0]\n",
            " [   0    0    1 1005    0    2    0    0    0    2]\n",
            " [   0    0    0    0  979    0    0    0    0    3]\n",
            " [   1    0    0    5    0  880    2    1    2    1]\n",
            " [   3    2    0    0    1    1  947    0    4    0]\n",
            " [   0    1    8    0    0    0    0 1017    1    1]\n",
            " [   0    0    0    2    0    0    0    1  969    2]\n",
            " [   1    1    0    0    6    0    0    9    6  986]]\n"
          ],
          "name": "stdout"
        }
      ]
    },
    {
      "cell_type": "code",
      "metadata": {
        "id": "inOOvfozVjvQ",
        "colab_type": "code",
        "colab": {}
      },
      "source": [
        "import matplotlib.pyplot as plt\n"
      ],
      "execution_count": 0,
      "outputs": []
    },
    {
      "cell_type": "code",
      "metadata": {
        "id": "2LdzYzYhVsbS",
        "colab_type": "code",
        "colab": {}
      },
      "source": [
        "from sklearn.metrics import confusion_matrix\n",
        "conf_mx = confusion_matrix(y_test, y_pred)"
      ],
      "execution_count": 0,
      "outputs": []
    },
    {
      "cell_type": "code",
      "metadata": {
        "id": "i7rwTm-UgA5f",
        "colab_type": "code",
        "outputId": "605155ac-a4b8-40c5-c2cf-d9c492447591",
        "colab": {
          "base_uri": "https://localhost:8080/",
          "height": 275
        }
      },
      "source": [
        "plt.matshow(conf_mx, cmap=plt.cm.gray)\n",
        "plt.show()"
      ],
      "execution_count": 11,
      "outputs": [
        {
          "output_type": "display_data",
          "data": {
            "image/png": "[encoded data removed]",
            "text/plain": [
              "<Figure size 288x288 with 1 Axes>"
            ]
          },
          "metadata": {
            "tags": []
          }
        }
      ]
    },
    {
      "cell_type": "code",
      "metadata": {
        "id": "Budp7myeg1sA",
        "colab_type": "code",
        "colab": {}
      },
      "source": [
        "row_sums = conf_mx.sum(axis=1, keepdims=True)\n",
        "norm_conf_mx = conf_mx / row_sums"
      ],
      "execution_count": 0,
      "outputs": []
    },
    {
      "cell_type": "code",
      "metadata": {
        "id": "CZGQOscdhCYE",
        "colab_type": "code",
        "outputId": "c232b272-0ea3-4a6e-821f-21dfb4d635b9",
        "colab": {
          "base_uri": "https://localhost:8080/",
          "height": 275
        }
      },
      "source": [
        "np.fill_diagonal(norm_conf_mx, 0)\n",
        "plt.matshow(norm_conf_mx, cmap=plt.cm.gray)\n",
        "plt.show()"
      ],
      "execution_count": 13,
      "outputs": [
        {
          "output_type": "display_data",
          "data": {
            "image/png": "[encoded data removed]",
            "text/plain": [
              "<Figure size 288x288 with 1 Axes>"
            ]
          },
          "metadata": {
            "tags": []
          }
        }
      ]
    },
    {
      "cell_type": "code",
      "metadata": {
        "id": "sF2VdRVNhEQa",
        "colab_type": "code",
        "outputId": "6d60b1a2-e5f4-446e-8899-75669a1c6bd0",
        "colab": {
          "base_uri": "https://localhost:8080/",
          "height": 51
        }
      },
      "source": [
        "model = load_model('/content/model.h5')\n",
        "result = model.evaluate(x_test, y_test)\n",
        "result"
      ],
      "execution_count": 14,
      "outputs": [
        {
          "output_type": "stream",
          "text": [
            "10000/10000 [==============================] - 1s 122us/step\n"
          ],
          "name": "stdout"
        },
        {
          "output_type": "execute_result",
          "data": {
            "text/plain": [
              "[0.03030618621237518, 0.9914]"
            ]
          },
          "metadata": {
            "tags": []
          },
          "execution_count": 14
        }
      ]
    },
    {
      "cell_type": "code",
      "metadata": {
        "id": "BlnfNTSCMWLa",
        "colab_type": "code",
        "outputId": "ca46c3dc-24d0-4b7b-a715-08cee65cc9e6",
        "colab": {
          "base_uri": "https://localhost:8080/",
          "height": 344
        }
      },
      "source": [
        "import matplotlib.pyplot as plt\n",
        "import pandas as pd\n",
        "pd.DataFrame(history.history).plot(figsize=(15, 5))\n",
        "plt.grid(True)\n",
        "plt.gca().set_ylim(0, 1) # set the vertical range to [0-1]\n",
        "plt.show()"
      ],
      "execution_count": 15,
      "outputs": [
        {
          "output_type": "display_data",
          "data": {
            "image/png": "[encoded data removed]",
            "text/plain": [
              "<Figure size 1080x360 with 1 Axes>"
            ]
          },
          "metadata": {
            "tags": []
          }
        }
      ]
    },
    {
      "cell_type": "code",
      "metadata": {
        "id": "fMEbLm9PekXl",
        "colab_type": "code",
        "outputId": "e30d10bd-d85c-449a-ab00-a473da9c38e4",
        "colab": {
          "base_uri": "https://localhost:8080/",
          "height": 34
        }
      },
      "source": [
        "model.save"
      ],
      "execution_count": 16,
      "outputs": [
        {
          "output_type": "execute_result",
          "data": {
            "text/plain": [
              "<bound method Network.save of <keras.engine.sequential.Sequential object at 0x7fa1d5457b00>>"
            ]
          },
          "metadata": {
            "tags": []
          },
          "execution_count": 16
        }
      ]
    },
    {
      "cell_type": "code",
      "metadata": {
        "id": "KIDQKkbqm3TC",
        "colab_type": "code",
        "colab": {}
      },
      "source": [
        ""
      ],
      "execution_count": 0,
      "outputs": []
    }
  ]
}